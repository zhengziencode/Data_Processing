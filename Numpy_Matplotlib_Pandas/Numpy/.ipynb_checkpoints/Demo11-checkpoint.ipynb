{
 "cells": [
  {
   "cell_type": "code",
   "execution_count": 1,
   "metadata": {
    "collapsed": true
   },
   "outputs": [],
   "source": [
    "#将一个数组中的nan位置置换为那一列的平均值\n",
    "import numpy as np"
   ]
  },
  {
   "cell_type": "code",
   "execution_count": 7,
   "metadata": {},
   "outputs": [
    {
     "name": "stdout",
     "output_type": "stream",
     "text": [
      "[[ 89.89  29.49  12.8   32.08]\n",
      " [ 39.67   8.62  22.83  85.37]\n",
      " [ 31.64  74.16  35.87  29.41]]\n"
     ]
    }
   ],
   "source": [
    "ar = np.round(np.random.rand(3,4)*100,2)\n",
    "print(ar)"
   ]
  },
  {
   "cell_type": "code",
   "execution_count": 9,
   "metadata": {},
   "outputs": [
    {
     "name": "stdout",
     "output_type": "stream",
     "text": [
      "[[ 89.89    nan    nan    nan]\n",
      " [ 39.67   8.62  22.83  85.37]\n",
      " [ 31.64  74.16  35.87  29.41]]\n"
     ]
    }
   ],
   "source": [
    "ar[0,1:] = np.nan\n",
    "print(ar)"
   ]
  },
  {
   "cell_type": "code",
   "execution_count": 21,
   "metadata": {},
   "outputs": [
    {
     "name": "stdout",
     "output_type": "stream",
     "text": [
      "[False  True  True]\n",
      "[False  True  True]\n",
      "[False  True  True]\n",
      "[[ 89.89  41.39  29.35  57.39]\n",
      " [ 39.67   8.62  22.83  85.37]\n",
      " [ 31.64  74.16  35.87  29.41]]\n"
     ]
    }
   ],
   "source": [
    "for i in range(ar.shape[1]):\n",
    "    temp_col = ar[:,i]\n",
    "    nan_count = np.count_nonzero(temp_col!=temp_col)\n",
    "    if nan_count!=0:\n",
    "        temp_col_container = temp_col[temp_col==temp_col]#当传入[False  True  True]时，temp_col[[False  True  True]]\n",
    "        print(temp_col==temp_col)\n",
    "        temp_col[np.isnan(temp_col)] = temp_col_container.mean()\n",
    "print(ar)"
   ]
  },
  {
   "cell_type": "code",
   "execution_count": 20,
   "metadata": {},
   "outputs": [
    {
     "name": "stdout",
     "output_type": "stream",
     "text": [
      "[ 89.89  39.67  31.64]\n",
      "[ 89.89  31.64]\n"
     ]
    }
   ],
   "source": [
    "#例子\n",
    "ar2 = ar[:,0]\n",
    "print(ar2)\n",
    "t = ar2[[True,False,True]]\n",
    "print(t)"
   ]
  },
  {
   "cell_type": "code",
   "execution_count": null,
   "metadata": {
    "collapsed": true
   },
   "outputs": [],
   "source": []
  }
 ],
 "metadata": {
  "kernelspec": {
   "display_name": "Python 3",
   "language": "python",
   "name": "python3"
  },
  "language_info": {
   "codemirror_mode": {
    "name": "ipython",
    "version": 3
   },
   "file_extension": ".py",
   "mimetype": "text/x-python",
   "name": "python",
   "nbconvert_exporter": "python",
   "pygments_lexer": "ipython3",
   "version": "3.5.4"
  }
 },
 "nbformat": 4,
 "nbformat_minor": 2
}
