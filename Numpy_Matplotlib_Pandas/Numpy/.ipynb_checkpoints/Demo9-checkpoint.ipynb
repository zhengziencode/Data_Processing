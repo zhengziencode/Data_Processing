{
 "cells": [
  {
   "cell_type": "markdown",
   "metadata": {},
   "source": [
    "nan:not a number  \n",
    "inf:positive infinite\n",
    "-inf:negative infinite"
   ]
  },
  {
   "cell_type": "code",
   "execution_count": 2,
   "metadata": {
    "collapsed": true
   },
   "outputs": [],
   "source": [
    "import numpy as np"
   ]
  },
  {
   "cell_type": "code",
   "execution_count": 3,
   "metadata": {},
   "outputs": [
    {
     "name": "stdout",
     "output_type": "stream",
     "text": [
      "inf nan\n"
     ]
    }
   ],
   "source": [
    "a = np.inf\n",
    "b = np.nan\n",
    "print(a,b)"
   ]
  },
  {
   "cell_type": "code",
   "execution_count": 4,
   "metadata": {},
   "outputs": [
    {
     "name": "stdout",
     "output_type": "stream",
     "text": [
      "False\n"
     ]
    }
   ],
   "source": [
    "c = np.nan\n",
    "print(b==c)#两个不同的nan是不相等的"
   ]
  },
  {
   "cell_type": "code",
   "execution_count": 9,
   "metadata": {},
   "outputs": [
    {
     "name": "stdout",
     "output_type": "stream",
     "text": [
      "[[ 2  3  4  5]\n",
      " [ 6  7  8  9]\n",
      " [10 11 12 13]]\n"
     ]
    }
   ],
   "source": [
    "ar1 = np.arange(2,14).reshape(3,4)\n",
    "print(ar1)"
   ]
  },
  {
   "cell_type": "code",
   "execution_count": 10,
   "metadata": {},
   "outputs": [
    {
     "name": "stdout",
     "output_type": "stream",
     "text": [
      "12\n"
     ]
    }
   ],
   "source": [
    "print(np.count_nonzero(ar1))#获取数组非0的个数"
   ]
  },
  {
   "cell_type": "code",
   "execution_count": 41,
   "metadata": {},
   "outputs": [
    {
     "name": "stdout",
     "output_type": "stream",
     "text": [
      "[[ nan   1.   2.   3.   4.   5.]\n",
      " [  1.   2.   3.   4.   5.   6.]]\n"
     ]
    }
   ],
   "source": [
    "ar2 = np.array([[np.nan,1,2,3,4,5],[1,2,3,4,5,6]])\n",
    "print(ar2)"
   ]
  },
  {
   "cell_type": "code",
   "execution_count": 25,
   "metadata": {},
   "outputs": [
    {
     "name": "stdout",
     "output_type": "stream",
     "text": [
      "[[ True False False False False False]\n",
      " [False False False False False False]] \n",
      " 1\n"
     ]
    }
   ],
   "source": [
    "count = np.count_nonzero(ar2!=ar2)#此方法可以算出一个数组里面有多少个nan\n",
    "print(ar2!=ar2,\"\\n\",count)#对比之后，由于两个nan是不相同的，在和自己对比的前提下，只有nan和nan对比会出现True也就是1，而False是0"
   ]
  },
  {
   "cell_type": "code",
   "execution_count": 26,
   "metadata": {},
   "outputs": [
    {
     "name": "stdout",
     "output_type": "stream",
     "text": [
      "[[ True False False False False False]\n",
      " [False False False False False False]]\n",
      "1\n"
     ]
    }
   ],
   "source": [
    "#此外判断是否是nan还可以直接用函数\n",
    "print(np.isnan(ar2))\n",
    "print(np.count_nonzero(np.isnan(ar2)))"
   ]
  },
  {
   "cell_type": "code",
   "execution_count": 27,
   "metadata": {},
   "outputs": [
    {
     "name": "stdout",
     "output_type": "stream",
     "text": [
      "nan\n"
     ]
    }
   ],
   "source": [
    "t = np.nan*20\n",
    "print(t)#nan和任何值进行运算都会是nan"
   ]
  },
  {
   "cell_type": "code",
   "execution_count": 47,
   "metadata": {},
   "outputs": [
    {
     "name": "stdout",
     "output_type": "stream",
     "text": [
      "[[ nan   1.   2.   3.   4.   5.]\n",
      " [  1.   2.   3.   4.   5.   6.]] \n",
      ".............\n",
      " [ nan   3.   5.   7.   9.  11.]\n"
     ]
    }
   ],
   "source": [
    "#所以当一个数组中存在nan，则调用函数np.sum会得出nan\n",
    "t = np.sum(ar2,axis=0)#计算行之和\n",
    "print(ar2,'\\n.............\\n',t)"
   ]
  },
  {
   "cell_type": "code",
   "execution_count": 38,
   "metadata": {},
   "outputs": [
    {
     "data": {
      "text/plain": [
       "nan"
      ]
     },
     "execution_count": 38,
     "metadata": {},
     "output_type": "execute_result"
    }
   ],
   "source": [
    "np.sum(ar2)#计算数组所有数值之和"
   ]
  },
  {
   "cell_type": "code",
   "execution_count": 39,
   "metadata": {},
   "outputs": [
    {
     "name": "stdout",
     "output_type": "stream",
     "text": [
      "[[ nan   1.   2.   3.   4.   5.]\n",
      " [  1.   2.   3.   4.   5.   6.]] \n",
      " [ nan  21.]\n"
     ]
    }
   ],
   "source": [
    "t = np.sum(ar2,axis=1)#计算列\n",
    "print(ar2,'\\n',t)"
   ]
  },
  {
   "cell_type": "code",
   "execution_count": 42,
   "metadata": {},
   "outputs": [
    {
     "name": "stdout",
     "output_type": "stream",
     "text": [
      "[ nan   3.   5.   7.   9.  11.]\n"
     ]
    }
   ],
   "source": [
    "#或者\n",
    "print(ar2.sum(axis=0))#axis表示以行为基准，竖直计算"
   ]
  },
  {
   "cell_type": "code",
   "execution_count": 43,
   "metadata": {},
   "outputs": [
    {
     "name": "stdout",
     "output_type": "stream",
     "text": [
      "[ nan  21.]\n"
     ]
    }
   ],
   "source": [
    "print(ar2.sum(axis=1))#axis表示以列为基准，水平计算"
   ]
  },
  {
   "cell_type": "code",
   "execution_count": null,
   "metadata": {
    "collapsed": true
   },
   "outputs": [],
   "source": []
  }
 ],
 "metadata": {
  "kernelspec": {
   "display_name": "Python 3",
   "language": "python",
   "name": "python3"
  },
  "language_info": {
   "codemirror_mode": {
    "name": "ipython",
    "version": 3
   },
   "file_extension": ".py",
   "mimetype": "text/x-python",
   "name": "python",
   "nbconvert_exporter": "python",
   "pygments_lexer": "ipython3",
   "version": "3.5.4"
  }
 },
 "nbformat": 4,
 "nbformat_minor": 2
}
