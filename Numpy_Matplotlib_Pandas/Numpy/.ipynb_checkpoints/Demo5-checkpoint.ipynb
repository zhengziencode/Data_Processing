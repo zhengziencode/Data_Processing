{
 "cells": [
  {
   "cell_type": "markdown",
   "metadata": {},
   "source": [
    "行列操作，切片等\n",
    "ar[a:b:c,d:e:f]\n",
    "a,b,c取行，d,e,f取列，a,d分别是行和列的起始值，b,e分别是行和列的终止值，c,f分别是行和列取值的步长\n",
    "\n",
    "\n",
    "ar[[a,b,c],[d,e,f]]\n",
    "a,b,c表示取行的第a,b,c行\n",
    "d,e,f表示取列的第d,e,f行"
   ]
  },
  {
   "cell_type": "code",
   "execution_count": 1,
   "metadata": {
    "collapsed": true
   },
   "outputs": [],
   "source": [
    "import numpy as np"
   ]
  },
  {
   "cell_type": "code",
   "execution_count": 2,
   "metadata": {},
   "outputs": [
    {
     "name": "stdout",
     "output_type": "stream",
     "text": [
      "[[  1 240   3   3   4]\n",
      " [  0  64   2   1   1]\n",
      " [  1 443   5   5   4]\n",
      " ..., \n",
      " [  0  48   1   1   0]\n",
      " [  1 160   3   2   2]\n",
      " [  1  60   2   1   1]]\n"
     ]
    }
   ],
   "source": [
    "path1 = \"house_rent.csv\"\n",
    "ar1 = np.loadtxt(path1,dtype=np.int,delimiter=',',skiprows=1,usecols=(1,2,3,4,5))\n",
    "print(ar1)"
   ]
  },
  {
   "cell_type": "code",
   "execution_count": 3,
   "metadata": {},
   "outputs": [
    {
     "name": "stdout",
     "output_type": "stream",
     "text": [
      "[[101 340 103 103 104]\n",
      " [100 164 102 101 101]\n",
      " [101 543 105 105 104]\n",
      " ..., \n",
      " [100 148 101 101 100]\n",
      " [101 260 103 102 102]\n",
      " [101 160 102 101 101]]\n"
     ]
    }
   ],
   "source": [
    "ar2 =ar1+100\n",
    "print(ar2)"
   ]
  },
  {
   "cell_type": "code",
   "execution_count": 4,
   "metadata": {},
   "outputs": [
    {
     "name": "stdout",
     "output_type": "stream",
     "text": [
      "[  1 240   3   3   4]\n"
     ]
    }
   ],
   "source": [
    "print(ar1[0])#获取第一行"
   ]
  },
  {
   "cell_type": "code",
   "execution_count": 5,
   "metadata": {},
   "outputs": [
    {
     "name": "stdout",
     "output_type": "stream",
     "text": [
      "[[  1 240   3   3   4]\n",
      " [  1 443   5   5   4]\n",
      " [  1  19   1   1   0]]\n"
     ]
    }
   ],
   "source": [
    "print(ar1[0:5:2])#取0到第100行\n",
    "#列表[起始:结束:步长]"
   ]
  },
  {
   "cell_type": "code",
   "execution_count": 6,
   "metadata": {},
   "outputs": [
    {
     "name": "stdout",
     "output_type": "stream",
     "text": [
      "[[  1 240   3   3   4]\n",
      " [  1 443   5   5   4]\n",
      " [  1  19   1   1   0]]\n"
     ]
    }
   ],
   "source": [
    "#取特定行,要用两个中括号\n",
    "print(ar1[[0,2,4]])"
   ]
  },
  {
   "cell_type": "code",
   "execution_count": 15,
   "metadata": {},
   "outputs": [
    {
     "name": "stdout",
     "output_type": "stream",
     "text": [
      "[0 1 1 1]\n"
     ]
    }
   ],
   "source": [
    "#取列\n",
    "print(ar1[1:5,0])\n",
    "#表示取0-5行的所有第一列数据\n",
    "#a:b:c a表示起始，b表示结束(b不取)，c表示步长，当单独出现 : 表示所有"
   ]
  },
  {
   "cell_type": "code",
   "execution_count": 16,
   "metadata": {},
   "outputs": [
    {
     "name": "stdout",
     "output_type": "stream",
     "text": [
      "[[  1 240]\n",
      " [  0  64]\n",
      " [  1 443]\n",
      " ..., \n",
      " [  0  48]\n",
      " [  1 160]\n",
      " [  1  60]]\n"
     ]
    }
   ],
   "source": [
    "print(ar1[:,0:2])"
   ]
  },
  {
   "cell_type": "code",
   "execution_count": 18,
   "metadata": {},
   "outputs": [
    {
     "name": "stdout",
     "output_type": "stream",
     "text": [
      "[[1 3 3]\n",
      " [0 2 1]\n",
      " [1 5 5]\n",
      " [1 2 2]\n",
      " [1 1 1]]\n"
     ]
    }
   ],
   "source": [
    "#取不连续多列（用中括号）\n",
    "print(ar1[0:5,[0,2,3]])\n",
    "#取1-5行的第1，3，4列的数据"
   ]
  },
  {
   "cell_type": "code",
   "execution_count": 20,
   "metadata": {},
   "outputs": [
    {
     "name": "stdout",
     "output_type": "stream",
     "text": [
      "[5]\n"
     ]
    }
   ],
   "source": [
    "#取多行多列\n",
    "print(ar1[[2],[3]])#取第三行第四列的值"
   ]
  },
  {
   "cell_type": "code",
   "execution_count": 23,
   "metadata": {},
   "outputs": [
    {
     "name": "stdout",
     "output_type": "stream",
     "text": [
      "[3 1 4]\n"
     ]
    }
   ],
   "source": [
    "print(ar1[[0,1,2],[2,3,4]])\n",
    "#取(0,2)(1,3)(2,4)值"
   ]
  },
  {
   "cell_type": "code",
   "execution_count": 25,
   "metadata": {
    "collapsed": true
   },
   "outputs": [],
   "source": [
    "#print(ar1[[0,1,2],[2,3]])#错误的，不遵守广播规则"
   ]
  },
  {
   "cell_type": "code",
   "execution_count": null,
   "metadata": {
    "collapsed": true
   },
   "outputs": [],
   "source": []
  }
 ],
 "metadata": {
  "kernelspec": {
   "display_name": "Python 3",
   "language": "python",
   "name": "python3"
  },
  "language_info": {
   "codemirror_mode": {
    "name": "ipython",
    "version": 3
   },
   "file_extension": ".py",
   "mimetype": "text/x-python",
   "name": "python",
   "nbconvert_exporter": "python",
   "pygments_lexer": "ipython3",
   "version": "3.5.4"
  }
 },
 "nbformat": 4,
 "nbformat_minor": 2
}
