{
 "cells": [
  {
   "cell_type": "markdown",
   "metadata": {},
   "source": [
    "数组可以看成维度\n",
    "1维有一个0轴\n",
    "2维数组有0轴，1轴\n",
    "3维数组有0轴，1轴，2轴   eg.(1,2,3)中0轴表示块，1轴表示行，2轴表示列"
   ]
  },
  {
   "cell_type": "markdown",
   "metadata": {},
   "source": [
    "Numpy读取csv数据集文件使用以下函数\n",
    "np.loadtxt(frame,dtype=np.float,delimiter=None,skiprows=0,usecols=None,unpack=False)\n",
    "frame:文件，字符串或者产生器，或者是.gz和bz2压缩文件\n",
    "dtype:数据类型，可选，默认是np.float（不同于python的float）类型\n",
    "delimiter:分隔字符，默认是任何空格改成 逗号\n",
    "skiprows:跳过前 x 行，一般跳过表头\n",
    "usecols:读取指定的列， 索引，元组类型,表示需要使用数组的哪几列\n",
    "unpack: 如果为True，读入属性将分别写入不同的数组变量，False读入数据只写入一个数组变量，默认是False,使用True之后，行和列互换\n",
    "csv数据集可以到https://www.kaggle.com/ 找到"
   ]
  },
  {
   "cell_type": "code",
   "execution_count": 2,
   "metadata": {
    "collapsed": true
   },
   "outputs": [],
   "source": [
    "import numpy as np\n",
    "import random"
   ]
  },
  {
   "cell_type": "code",
   "execution_count": 19,
   "metadata": {},
   "outputs": [
    {
     "name": "stdout",
     "output_type": "stream",
     "text": [
      "area,rooms,bathroom,parking spaces\n",
      "[[  1 240   3   3   4]\n",
      " [  0  64   2   1   1]\n",
      " [  1 443   5   5   4]\n",
      " ..., \n",
      " [  0  48   1   1   0]\n",
      " [  1 160   3   2   2]\n",
      " [  1  60   2   1   1]]\n"
     ]
    }
   ],
   "source": [
    "path = 'house_rent.csv'\n",
    "ar1 = np.loadtxt(path,dtype=np.int,delimiter=\",\",skiprows=1,usecols=(1,2,3,4,5))\n",
    "print(\"area,rooms,bathroom,parking spaces\")\n",
    "print(ar1)"
   ]
  },
  {
   "cell_type": "code",
   "execution_count": 20,
   "metadata": {},
   "outputs": [
    {
     "name": "stdout",
     "output_type": "stream",
     "text": [
      "[[  1   0   1 ...,   0   1   1]\n",
      " [240  64 443 ...,  48 160  60]\n",
      " [  3   2   5 ...,   1   3   2]\n",
      " [  3   1   5 ...,   1   2   1]\n",
      " [  4   1   4 ...,   0   2   1]]\n"
     ]
    }
   ],
   "source": [
    "ar2 = ar1.transpose()#转置\n",
    "#ar2 = ar1.T\n",
    "#ar2 = ar1.swapaxes(1,0)把轴的转换，也就是行列互换\n",
    "print(ar2)"
   ]
  },
  {
   "cell_type": "code",
   "execution_count": null,
   "metadata": {
    "collapsed": true
   },
   "outputs": [],
   "source": []
  }
 ],
 "metadata": {
  "kernelspec": {
   "display_name": "Python 3",
   "language": "python",
   "name": "python3"
  },
  "language_info": {
   "codemirror_mode": {
    "name": "ipython",
    "version": 3
   },
   "file_extension": ".py",
   "mimetype": "text/x-python",
   "name": "python",
   "nbconvert_exporter": "python",
   "pygments_lexer": "ipython3",
   "version": "3.5.4"
  }
 },
 "nbformat": 4,
 "nbformat_minor": 2
}
