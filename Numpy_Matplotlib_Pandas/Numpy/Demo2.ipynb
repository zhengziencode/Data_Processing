{
 "cells": [
  {
   "cell_type": "code",
   "execution_count": 1,
   "metadata": {
    "collapsed": true
   },
   "outputs": [],
   "source": [
    "import numpy as np"
   ]
  },
  {
   "cell_type": "code",
   "execution_count": 4,
   "metadata": {},
   "outputs": [
    {
     "name": "stdout",
     "output_type": "stream",
     "text": [
      "(2,)\n",
      "<class 'tuple'>\n"
     ]
    }
   ],
   "source": [
    "tul = (2,)\n",
    "#元组\n",
    "print(tul)\n",
    "print(type(tul))"
   ]
  },
  {
   "cell_type": "code",
   "execution_count": 5,
   "metadata": {},
   "outputs": [
    {
     "name": "stdout",
     "output_type": "stream",
     "text": [
      "2\n"
     ]
    }
   ],
   "source": [
    "print(tul[0])"
   ]
  },
  {
   "cell_type": "code",
   "execution_count": 13,
   "metadata": {},
   "outputs": [
    {
     "name": "stdout",
     "output_type": "stream",
     "text": [
      "[list([1, 2]) list([2, 3, 4])]\n"
     ]
    },
    {
     "data": {
      "text/plain": [
       "(2,)"
      ]
     },
     "execution_count": 13,
     "metadata": {},
     "output_type": "execute_result"
    }
   ],
   "source": [
    "ar1 = np.array([[1,2],[2,3,4]])\n",
    "print(ar1)\n",
    "ar1.shape"
   ]
  },
  {
   "cell_type": "code",
   "execution_count": 20,
   "metadata": {},
   "outputs": [
    {
     "name": "stdout",
     "output_type": "stream",
     "text": [
      "[[1 3 2]\n",
      " [2 3 4]]\n",
      "维度是：(2, 3)\n"
     ]
    }
   ],
   "source": [
    "ar2 = np.array([[1,3,2],[2,3,4]])\n",
    "print(ar2)\n",
    "print('维度是：'+str(ar2.shape))"
   ]
  },
  {
   "cell_type": "code",
   "execution_count": 18,
   "metadata": {},
   "outputs": [
    {
     "name": "stdout",
     "output_type": "stream",
     "text": [
      "[ 0  1  2  3  4  5  6  7  8  9 10 11]\n",
      "[[ 0  1  2  3]\n",
      " [ 4  5  6  7]\n",
      " [ 8  9 10 11]]\n"
     ]
    }
   ],
   "source": [
    "#重置维度\n",
    "ar3 = np.arange(12)\n",
    "t = ar3.reshape((3,4))#重置为三行四列。。。。三维,reshape有返回值，且ar3调用这个方法之后不会被改变\n",
    "print(ar3)\n",
    "print(t)"
   ]
  },
  {
   "cell_type": "code",
   "execution_count": 17,
   "metadata": {},
   "outputs": [
    {
     "name": "stdout",
     "output_type": "stream",
     "text": [
      "[[[ 0  1  2  3]\n",
      "  [ 4  5  6  7]]\n",
      "\n",
      " [[ 8  9 10 11]\n",
      "  [12 13 14 15]]\n",
      "\n",
      " [[16 17 18 19]\n",
      "  [20 21 22 23]]]\n"
     ]
    }
   ],
   "source": [
    "ar4 = np.arange(24).reshape(3,2,4)\n",
    "#3可以理解为分成3个矩阵，2，4表示每个矩阵是2X4的\n",
    "print(ar4)"
   ]
  },
  {
   "cell_type": "code",
   "execution_count": 24,
   "metadata": {},
   "outputs": [
    {
     "name": "stdout",
     "output_type": "stream",
     "text": [
      "[[ 0]\n",
      " [ 1]\n",
      " [ 2]\n",
      " [ 3]\n",
      " [ 4]\n",
      " [ 5]\n",
      " [ 6]\n",
      " [ 7]\n",
      " [ 8]\n",
      " [ 9]\n",
      " [10]\n",
      " [11]\n",
      " [12]\n",
      " [13]\n",
      " [14]\n",
      " [15]\n",
      " [16]\n",
      " [17]\n",
      " [18]\n",
      " [19]\n",
      " [20]\n",
      " [21]\n",
      " [22]\n",
      " [23]]\n",
      "[[ 0  1  2  3  4  5  6  7  8  9 10 11 12 13 14 15 16 17 18 19 20 21 22 23]]\n"
     ]
    }
   ],
   "source": [
    "ar5 = ar4.reshape((24,1))#24行1列\n",
    "print(ar5)\n",
    "ar6 = ar4.reshape((1,24))\n",
    "print(ar6)"
   ]
  },
  {
   "cell_type": "code",
   "execution_count": 28,
   "metadata": {},
   "outputs": [
    {
     "name": "stdout",
     "output_type": "stream",
     "text": [
      "24\n",
      "[ 0  1  2  3  4  5  6  7  8  9 10 11 12 13 14 15 16 17 18 19 20 21 22 23]\n"
     ]
    }
   ],
   "source": [
    "#获取总数\n",
    "sum = ar4.shape[0]*ar4.shape[1]*ar4.shape[2]#块乘以行乘以列\n",
    "print(sum)\n",
    "#或者\n",
    "sum2 = ar4.flatten()\n",
    "print(sum2)"
   ]
  },
  {
   "cell_type": "code",
   "execution_count": 29,
   "metadata": {},
   "outputs": [
    {
     "name": "stdout",
     "output_type": "stream",
     "text": [
      "[[[ 0  1  2  3]\n",
      "  [ 4  5  6  7]]\n",
      "\n",
      " [[ 8  9 10 11]\n",
      "  [12 13 14 15]]\n",
      "\n",
      " [[16 17 18 19]\n",
      "  [20 21 22 23]]]\n",
      "[[[ 0  2  4  6]\n",
      "  [ 8 10 12 14]]\n",
      "\n",
      " [[16 18 20 22]\n",
      "  [24 26 28 30]]\n",
      "\n",
      " [[32 34 36 38]\n",
      "  [40 42 44 46]]]\n",
      "[[[ 2  3  4  5]\n",
      "  [ 6  7  8  9]]\n",
      "\n",
      " [[10 11 12 13]\n",
      "  [14 15 16 17]]\n",
      "\n",
      " [[18 19 20 21]\n",
      "  [22 23 24 25]]]\n",
      "[[[  0.    0.5   1.    1.5]\n",
      "  [  2.    2.5   3.    3.5]]\n",
      "\n",
      " [[  4.    4.5   5.    5.5]\n",
      "  [  6.    6.5   7.    7.5]]\n",
      "\n",
      " [[  8.    8.5   9.    9.5]\n",
      "  [ 10.   10.5  11.   11.5]]]\n"
     ]
    }
   ],
   "source": [
    "#numpy的算法\n",
    "print(ar4)\n",
    "print(ar4*2)\n",
    "print(ar4+2)\n",
    "print(ar4/2)"
   ]
  },
  {
   "cell_type": "code",
   "execution_count": 30,
   "metadata": {},
   "outputs": [
    {
     "name": "stdout",
     "output_type": "stream",
     "text": [
      "[[[ nan  inf  inf  inf]\n",
      "  [ inf  inf  inf  inf]]\n",
      "\n",
      " [[ inf  inf  inf  inf]\n",
      "  [ inf  inf  inf  inf]]\n",
      "\n",
      " [[ inf  inf  inf  inf]\n",
      "  [ inf  inf  inf  inf]]]\n"
     ]
    },
    {
     "name": "stderr",
     "output_type": "stream",
     "text": [
      "C:\\Users\\ZZE-LapTop\\Anaconda3\\envs\\tensorflow\\lib\\site-packages\\ipykernel_launcher.py:2: RuntimeWarning: divide by zero encountered in true_divide\n",
      "  \n",
      "C:\\Users\\ZZE-LapTop\\Anaconda3\\envs\\tensorflow\\lib\\site-packages\\ipykernel_launcher.py:2: RuntimeWarning: invalid value encountered in true_divide\n",
      "  \n"
     ]
    }
   ],
   "source": [
    "#除以0的话\n",
    "print(ar4/0)\n",
    "#nan表示none of number\n",
    "#inf是infinite表示无限，一个数字除以0的极限是无穷"
   ]
  },
  {
   "cell_type": "code",
   "execution_count": null,
   "metadata": {
    "collapsed": true
   },
   "outputs": [],
   "source": []
  }
 ],
 "metadata": {
  "kernelspec": {
   "display_name": "Python 3",
   "language": "python",
   "name": "python3"
  },
  "language_info": {
   "codemirror_mode": {
    "name": "ipython",
    "version": 3
   },
   "file_extension": ".py",
   "mimetype": "text/x-python",
   "name": "python",
   "nbconvert_exporter": "python",
   "pygments_lexer": "ipython3",
   "version": "3.5.4"
  }
 },
 "nbformat": 4,
 "nbformat_minor": 2
}
