{
 "cells": [
  {
   "cell_type": "markdown",
   "metadata": {},
   "source": [
    "Numpy的拼接和交换"
   ]
  },
  {
   "cell_type": "code",
   "execution_count": 1,
   "metadata": {
    "collapsed": true
   },
   "outputs": [],
   "source": [
    "import numpy as np\n",
    "import random as rd"
   ]
  },
  {
   "cell_type": "code",
   "execution_count": 2,
   "metadata": {
    "collapsed": true
   },
   "outputs": [],
   "source": [
    "ar1 = np.array([rd.randint(0,100) for i in range(10)]).reshape(2,5)\n",
    "ar2 = np.array([rd.randint(0,100) for i in range(10)]).reshape(2,5)"
   ]
  },
  {
   "cell_type": "code",
   "execution_count": 20,
   "metadata": {},
   "outputs": [
    {
     "name": "stdout",
     "output_type": "stream",
     "text": [
      "[[17  1 90 74 73]\n",
      " [61  2 62 17 89]]\n",
      "...............................\n",
      "[[97 95 80 30 96]\n",
      " [17 95 91 17 10]]\n",
      "<class 'numpy.int32'>\n"
     ]
    }
   ],
   "source": [
    "print(ar1)\n",
    "print(\"...............................\")\n",
    "print(ar2)\n",
    "print(type(ar2[0,0]))"
   ]
  },
  {
   "cell_type": "code",
   "execution_count": 5,
   "metadata": {},
   "outputs": [
    {
     "name": "stdout",
     "output_type": "stream",
     "text": [
      "[[61  2 62 89 17]\n",
      " [17  1 90 73 74]\n",
      " [97 95 80 30 96]\n",
      " [17 95 91 17 10]]\n"
     ]
    }
   ],
   "source": [
    "#竖直拼接\n",
    "ar3 = np.vstack((ar1,ar2))#ar2接在ar1的上面\n",
    "print(ar3)"
   ]
  },
  {
   "cell_type": "code",
   "execution_count": 6,
   "metadata": {},
   "outputs": [
    {
     "name": "stdout",
     "output_type": "stream",
     "text": [
      "[[61  2 62 89 17 97 95 80 30 96]\n",
      " [17  1 90 73 74 17 95 91 17 10]]\n"
     ]
    }
   ],
   "source": [
    "#水平拼接\n",
    "ar3 = np.hstack((ar1,ar2))#要用元组的形式()   ar2接在ar1的右边\n",
    "print(ar3)"
   ]
  },
  {
   "cell_type": "markdown",
   "metadata": {},
   "source": [
    "#竖直分割是横着切\n",
    "#水平分割是竖着切"
   ]
  },
  {
   "cell_type": "code",
   "execution_count": 10,
   "metadata": {},
   "outputs": [
    {
     "name": "stdout",
     "output_type": "stream",
     "text": [
      "[[61  2 62 89 17]\n",
      " [17  1 90 73 74]]\n",
      "[[17  1 90 73 74]\n",
      " [61  2 62 89 17]]\n"
     ]
    }
   ],
   "source": [
    "#行交换\n",
    "print(ar1)\n",
    "ar1[[0,1],:] = ar1[[1,0],:]\n",
    "print(ar1)\n",
    "\n",
    "#python特性，互换两个数值\n",
    "#Python中的变量并不直接存储值，而只是引用一个内存地址，交换变量时，只是交换了引用的地址 ，所以支持下面这种方式：\n",
    "#y, x = x, y\n",
    "#print(x, y)"
   ]
  },
  {
   "cell_type": "code",
   "execution_count": 14,
   "metadata": {},
   "outputs": [
    {
     "name": "stdout",
     "output_type": "stream",
     "text": [
      "1 0\n"
     ]
    }
   ],
   "source": [
    "x,y=(0,1)#python牛逼\n",
    "y,x = x,y\n",
    "print(x,y)"
   ]
  },
  {
   "cell_type": "code",
   "execution_count": 11,
   "metadata": {},
   "outputs": [
    {
     "name": "stdout",
     "output_type": "stream",
     "text": [
      "[[17  1 90 73 74]\n",
      " [61  2 62 89 17]]\n",
      "[[17  1 90 74 73]\n",
      " [61  2 62 17 89]]\n"
     ]
    }
   ],
   "source": [
    "#列交换\n",
    "print(ar1)\n",
    "ar1[:,[3,4]] = ar1[:,[4,3]]\n",
    "print(ar1)"
   ]
  },
  {
   "cell_type": "code",
   "execution_count": 22,
   "metadata": {},
   "outputs": [
    {
     "name": "stdout",
     "output_type": "stream",
     "text": [
      "[[ 0 17  1 90 74 73]\n",
      " [ 0 61  2 62 17 89]\n",
      " [ 1 97 95 80 30 96]\n",
      " [ 1 17 95 91 17 10]]\n"
     ]
    }
   ],
   "source": [
    "#创建一个数组，保存ar1和ar2的标识\n",
    "flag1 = np.zeros((ar1.shape[0],1)).astype(np.int32)#zeros()参数也是元组！\n",
    "flag2 = np.ones((ar2.shape[0],1)).astype(np.int32)\n",
    "ar1 = np.hstack((flag1,ar1))#(a,b)表示a接在b的右边\n",
    "ar2 = np.hstack((flag2,ar2))\n",
    "ar_new = np.vstack((ar1,ar2))#ar2接在ar1的下边\n",
    "print(ar_new)"
   ]
  },
  {
   "cell_type": "code",
   "execution_count": 24,
   "metadata": {},
   "outputs": [
    {
     "name": "stdout",
     "output_type": "stream",
     "text": [
      "[[ 1.  0.  0.  0.  0.  0.  0.  0.  0.  0.]\n",
      " [ 0.  1.  0.  0.  0.  0.  0.  0.  0.  0.]\n",
      " [ 0.  0.  1.  0.  0.  0.  0.  0.  0.  0.]\n",
      " [ 0.  0.  0.  1.  0.  0.  0.  0.  0.  0.]\n",
      " [ 0.  0.  0.  0.  1.  0.  0.  0.  0.  0.]\n",
      " [ 0.  0.  0.  0.  0.  1.  0.  0.  0.  0.]\n",
      " [ 0.  0.  0.  0.  0.  0.  1.  0.  0.  0.]\n",
      " [ 0.  0.  0.  0.  0.  0.  0.  1.  0.  0.]\n",
      " [ 0.  0.  0.  0.  0.  0.  0.  0.  1.  0.]\n",
      " [ 0.  0.  0.  0.  0.  0.  0.  0.  0.  1.]]\n"
     ]
    }
   ],
   "source": [
    "#其他一些生成数组的方法\n",
    "t = np.eye(10)#生成对角是1其他是0的矩阵\n",
    "print(t)"
   ]
  },
  {
   "cell_type": "code",
   "execution_count": 27,
   "metadata": {},
   "outputs": [
    {
     "name": "stdout",
     "output_type": "stream",
     "text": [
      "[0 1 1 0 0 1]\n"
     ]
    }
   ],
   "source": [
    "#获取最大值和最小值的位置\n",
    "t1 = np.argmax(ar1,axis=0)#获取在axis=0即每一行的最大值的位置\n",
    "print(t1)"
   ]
  },
  {
   "cell_type": "code",
   "execution_count": 28,
   "metadata": {},
   "outputs": [
    {
     "name": "stdout",
     "output_type": "stream",
     "text": [
      "[0 0 0 1 1 0]\n"
     ]
    }
   ],
   "source": [
    "#获取最大值和最小值的位置\n",
    "t1 = np.argmin(ar1,axis=0)#获取在axis=0即每一行的最小值的位置\n",
    "print(t1)"
   ]
  },
  {
   "cell_type": "code",
   "execution_count": null,
   "metadata": {
    "collapsed": true
   },
   "outputs": [],
   "source": []
  }
 ],
 "metadata": {
  "kernelspec": {
   "display_name": "Python 3",
   "language": "python",
   "name": "python3"
  },
  "language_info": {
   "codemirror_mode": {
    "name": "ipython",
    "version": 3
   },
   "file_extension": ".py",
   "mimetype": "text/x-python",
   "name": "python",
   "nbconvert_exporter": "python",
   "pygments_lexer": "ipython3",
   "version": "3.5.4"
  }
 },
 "nbformat": 4,
 "nbformat_minor": 2
}
