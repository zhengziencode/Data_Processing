{
 "cells": [
  {
   "cell_type": "markdown",
   "metadata": {},
   "source": [
    "一些计算函数\n",
    "a = np.array([1,2,3])\n",
    "a.sum(axis=None)\n",
    "a.mean(axis=None)\n",
    "np.median(a,axis=None)\n",
    "a.max(axis=None)\n",
    "a.min(axis=None)\n",
    "np.ptp(a,axis=None)  求极值\n",
    "a.std(axis=None)     求标准差\n",
    "\n",
    "axis表示以哪一个为基准，求他垂直方向的那一行或者列\n",
    "axis=0表示以行为基准，向下计算或者求值\n"
   ]
  },
  {
   "cell_type": "code",
   "execution_count": 1,
   "metadata": {
    "collapsed": true
   },
   "outputs": [],
   "source": [
    "import numpy as np"
   ]
  },
  {
   "cell_type": "code",
   "execution_count": 2,
   "metadata": {},
   "outputs": [
    {
     "name": "stdout",
     "output_type": "stream",
     "text": [
      "[[1 3 5 2]\n",
      " [1 2 6 7]]\n"
     ]
    }
   ],
   "source": [
    "ar1 = np.array([[1,3,5,2],[1,2,6,7]])\n",
    "print(ar1)"
   ]
  },
  {
   "cell_type": "code",
   "execution_count": 4,
   "metadata": {},
   "outputs": [
    {
     "name": "stdout",
     "output_type": "stream",
     "text": [
      "[1 3 6 7]\n"
     ]
    }
   ],
   "source": [
    "print(ar1.max(axis=0))"
   ]
  },
  {
   "cell_type": "code",
   "execution_count": 5,
   "metadata": {},
   "outputs": [
    {
     "name": "stdout",
     "output_type": "stream",
     "text": [
      "[5 7]\n"
     ]
    }
   ],
   "source": [
    "print(ar1.max(axis=1))"
   ]
  },
  {
   "cell_type": "code",
   "execution_count": null,
   "metadata": {
    "collapsed": true
   },
   "outputs": [],
   "source": []
  }
 ],
 "metadata": {
  "kernelspec": {
   "display_name": "Python 3",
   "language": "python",
   "name": "python3"
  },
  "language_info": {
   "codemirror_mode": {
    "name": "ipython",
    "version": 3
   },
   "file_extension": ".py",
   "mimetype": "text/x-python",
   "name": "python",
   "nbconvert_exporter": "python",
   "pygments_lexer": "ipython3",
   "version": "3.5.4"
  }
 },
 "nbformat": 4,
 "nbformat_minor": 2
}
