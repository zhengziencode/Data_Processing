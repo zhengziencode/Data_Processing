{
 "cells": [
  {
   "cell_type": "markdown",
   "metadata": {},
   "source": [
    " numpy数值的修改\n",
    " 直接取值之后赋值"
   ]
  },
  {
   "cell_type": "code",
   "execution_count": 2,
   "metadata": {
    "collapsed": true
   },
   "outputs": [],
   "source": [
    "import numpy as np\n",
    "import random as rd"
   ]
  },
  {
   "cell_type": "code",
   "execution_count": 6,
   "metadata": {},
   "outputs": [
    {
     "name": "stdout",
     "output_type": "stream",
     "text": [
      "[[81 83 37 89 84 14 66  4 73 51]\n",
      " [43  4 38 12 99  8 58 17  0 62]]\n"
     ]
    }
   ],
   "source": [
    "ar = np.array([rd.randint(0,100) for i in range(20)]).reshape(2,10)\n",
    "print(ar)"
   ]
  },
  {
   "cell_type": "code",
   "execution_count": 12,
   "metadata": {},
   "outputs": [
    {
     "name": "stdout",
     "output_type": "stream",
     "text": [
      "[[81 83 37 89 84 14 66 10 73 51]\n",
      " [43 10 38 12 99 10 58 17 10 62]]\n"
     ]
    }
   ],
   "source": [
    "ar[ar<10]=10  #获取所有小于10的值，并且把所有小于10的值设置为10\n",
    "print(ar)"
   ]
  },
  {
   "cell_type": "code",
   "execution_count": 14,
   "metadata": {},
   "outputs": [
    {
     "name": "stdout",
     "output_type": "stream",
     "text": [
      "[[False False False False False  True False  True False False]\n",
      " [False  True False  True False  True False  True  True False]]\n"
     ]
    }
   ],
   "source": [
    "print(ar<20)"
   ]
  },
  {
   "cell_type": "code",
   "execution_count": 16,
   "metadata": {},
   "outputs": [
    {
     "name": "stdout",
     "output_type": "stream",
     "text": [
      "[[10 10 10 10 10  0 10  0 10 10]\n",
      " [10  0 10  0 10  0 10  0  0 10]]\n"
     ]
    }
   ],
   "source": [
    "#另外一种方法\n",
    "ar2 = np.where(ar<20,0,10)#相当于三目运算，np.where(a<b,c,d) 差不多是 a<b?c:d\n",
    "print(ar2)"
   ]
  },
  {
   "cell_type": "code",
   "execution_count": 17,
   "metadata": {},
   "outputs": [
    {
     "name": "stdout",
     "output_type": "stream",
     "text": [
      "[[80 80 37 80 80 20 66 20 73 51]\n",
      " [43 20 38 20 80 20 58 20 20 62]]\n"
     ]
    }
   ],
   "source": [
    "#还有一种 在某个范围内修剪的函数\n",
    "ar3 = ar.clip(20,80)\n",
    "#小于20则换为20，大于80则换位80\n",
    "print(ar3)"
   ]
  },
  {
   "cell_type": "code",
   "execution_count": null,
   "metadata": {
    "collapsed": true
   },
   "outputs": [],
   "source": []
  }
 ],
 "metadata": {
  "kernelspec": {
   "display_name": "Python 3",
   "language": "python",
   "name": "python3"
  },
  "language_info": {
   "codemirror_mode": {
    "name": "ipython",
    "version": 3
   },
   "file_extension": ".py",
   "mimetype": "text/x-python",
   "name": "python",
   "nbconvert_exporter": "python",
   "pygments_lexer": "ipython3",
   "version": "3.5.4"
  }
 },
 "nbformat": 4,
 "nbformat_minor": 2
}
