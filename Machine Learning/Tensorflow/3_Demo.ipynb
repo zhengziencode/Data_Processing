{
 "cells": [
  {
   "cell_type": "code",
   "execution_count": 1,
   "metadata": {},
   "outputs": [],
   "source": [
    "import tensorflow as tf\n",
    "from tensorflow.keras import layers"
   ]
  },
  {
   "cell_type": "markdown",
   "metadata": {},
   "source": [
    "#使用张量实现神经网络"
   ]
  },
  {
   "cell_type": "code",
   "execution_count": 22,
   "metadata": {},
   "outputs": [],
   "source": [
    "x = tf.random.normal([4,28*28])\n",
    "#创建第一层张量\n",
    "w1 = tf.Variable(tf.random.truncated_normal([784,256], stddev=0.1))\n",
    "b1 = tf.Variable(tf.zeros([256]))"
   ]
  },
  {
   "cell_type": "code",
   "execution_count": 9,
   "metadata": {},
   "outputs": [],
   "source": [
    "#创建第二层张量\n",
    "w2 = tf.Variable(tf.random.truncated_normal([256,128], stddev=0.1))\n",
    "b2 = tf.Variable(tf.zeros([128]))"
   ]
  },
  {
   "cell_type": "code",
   "execution_count": 10,
   "metadata": {},
   "outputs": [],
   "source": [
    "#创建第三层张量\n",
    "w3 = tf.Variable(tf.random.truncated_normal([128,64], stddev=0.1))\n",
    "b3 = tf.Variable(tf.zeros([64]))"
   ]
  },
  {
   "cell_type": "code",
   "execution_count": 19,
   "metadata": {},
   "outputs": [],
   "source": [
    "#创建输出张量\n",
    "w4 = tf.Variable(tf.random.truncated_normal([64,10], stddev=0.1))\n",
    "b4 = tf.Variable(tf.zeros([10]))\n",
    "t = tf.zeros([4,10])"
   ]
  },
  {
   "cell_type": "code",
   "execution_count": 20,
   "metadata": {},
   "outputs": [],
   "source": [
    "with tf.GradientTape() as tape:\n",
    "    h1 = tf.matmul(x,w1) + tf.broadcast_to(b1, [x.shape[0],256])\n",
    "    h1 = tf.nn.relu(h1)\n",
    "    \n",
    "    h2 = tf.matmul(h1,w2) + b2\n",
    "    h2 = tf.nn.relu(h2)\n",
    "    \n",
    "    h3 = tf.matmul(h2,w3) + b3\n",
    "    h3 = tf.nn.relu(h3)\n",
    "    \n",
    "    h4 = tf.matmul(h3,w4) + b4\n",
    "    t = h4"
   ]
  },
  {
   "cell_type": "code",
   "execution_count": 21,
   "metadata": {},
   "outputs": [
    {
     "data": {
      "text/plain": [
       "<tf.Tensor: shape=(4, 10), dtype=float32, numpy=\n",
       "array([[-0.28124356, -0.0698306 ,  0.67477214, -0.21846044, -0.877813  ,\n",
       "         1.1298518 ,  0.00437126,  0.51012444,  0.6474581 , -0.71941495],\n",
       "       [-0.2673243 ,  0.07599086,  0.6379767 , -0.91949   , -0.99738127,\n",
       "         0.18907547,  0.83589435,  0.11769992, -0.09725556, -0.9560514 ],\n",
       "       [-0.17127624, -0.4526655 ,  0.5278322 , -0.6043845 , -0.93531406,\n",
       "         1.0073326 ,  0.3790365 , -0.13363017, -0.19185987, -0.84601355],\n",
       "       [-0.23844784,  0.23753744, -0.09771451,  0.26434258, -0.92705196,\n",
       "         0.9715351 ,  0.02040714,  0.28696057, -0.07626295, -0.15561676]],\n",
       "      dtype=float32)>"
      ]
     },
     "execution_count": 21,
     "metadata": {},
     "output_type": "execute_result"
    }
   ],
   "source": [
    "t"
   ]
  },
  {
   "cell_type": "markdown",
   "metadata": {},
   "source": [
    "使用层方法实现神经网络"
   ]
  },
  {
   "cell_type": "code",
   "execution_count": 23,
   "metadata": {},
   "outputs": [],
   "source": [
    "fc1 = layers.Dense(256,activation=tf.nn.relu)#隐藏层1\n",
    "fc2 = layers.Dense(128,activation=tf.nn.relu)#隐藏层2\n",
    "fc3 = layers.Dense(64,activation=tf.nn.relu)#隐藏层3\n",
    "fc4 = layers.Dense(10,activation=None)#输出层"
   ]
  },
  {
   "cell_type": "code",
   "execution_count": 24,
   "metadata": {},
   "outputs": [
    {
     "data": {
      "text/plain": [
       "<tf.Tensor: shape=(4, 784), dtype=float32, numpy=\n",
       "array([[-0.21650155,  1.2356591 , -0.24383971, ..., -2.2145467 ,\n",
       "         0.8259462 , -1.0500003 ],\n",
       "       [ 0.7196911 ,  0.34725776, -1.1196666 , ...,  0.07556307,\n",
       "         1.0133306 , -0.10768326],\n",
       "       [ 1.1378909 , -0.58337724,  0.05155946, ..., -0.78543067,\n",
       "        -2.3386052 ,  0.9598677 ],\n",
       "       [ 0.6294468 ,  2.1257653 , -1.1730777 , ..., -0.52853006,\n",
       "        -0.89618886, -0.42311594]], dtype=float32)>"
      ]
     },
     "execution_count": 24,
     "metadata": {},
     "output_type": "execute_result"
    }
   ],
   "source": [
    "x"
   ]
  },
  {
   "cell_type": "code",
   "execution_count": 26,
   "metadata": {},
   "outputs": [
    {
     "data": {
      "text/plain": [
       "<tf.Tensor: shape=(4, 10), dtype=float32, numpy=\n",
       "array([[5.9956336e-01, 0.0000000e+00, 7.6726452e-02, 0.0000000e+00,\n",
       "        4.5750213e-01, 7.4858785e-02, 1.2826473e+00, 2.7254081e-01,\n",
       "        3.4484884e-01, 0.0000000e+00],\n",
       "       [1.6225016e-01, 0.0000000e+00, 6.4501703e-02, 1.3632196e-01,\n",
       "        3.7586784e-01, 2.3760274e-01, 7.9950649e-01, 1.9583507e-01,\n",
       "        0.0000000e+00, 2.8493997e-01],\n",
       "       [1.6481730e-01, 0.0000000e+00, 6.3111328e-02, 5.7059526e-04,\n",
       "        5.7587814e-01, 0.0000000e+00, 1.3161458e+00, 3.8440466e-02,\n",
       "        0.0000000e+00, 0.0000000e+00],\n",
       "       [0.0000000e+00, 0.0000000e+00, 0.0000000e+00, 0.0000000e+00,\n",
       "        2.1218354e-01, 0.0000000e+00, 1.5993363e+00, 0.0000000e+00,\n",
       "        0.0000000e+00, 4.7983304e-01]], dtype=float32)>"
      ]
     },
     "execution_count": 26,
     "metadata": {},
     "output_type": "execute_result"
    }
   ],
   "source": [
    "h1 = fc1(x)\n",
    "h2 = fc2(h1)\n",
    "h3 = fc3(h2)\n",
    "h4 = fc4(h3)\n",
    "h4"
   ]
  },
  {
   "cell_type": "markdown",
   "metadata": {},
   "source": [
    "或者对于这种数据依次向前传播的网络，可以调用Sequential容器封装成一个网络大类对象，进而更加方便"
   ]
  },
  {
   "cell_type": "code",
   "execution_count": 27,
   "metadata": {},
   "outputs": [],
   "source": [
    "from tensorflow.keras import layers, Sequential"
   ]
  },
  {
   "cell_type": "code",
   "execution_count": 28,
   "metadata": {},
   "outputs": [],
   "source": [
    "model = Sequential([\n",
    "    layers.Dense(256,activation=tf.nn.relu),#隐藏层1\n",
    "    layers.Dense(128,activation=tf.nn.relu),#隐藏层2\n",
    "    layers.Dense(64,activation=tf.nn.relu),#隐藏层3\n",
    "    layers.Dense(10,activation=None)#输出层\n",
    "])"
   ]
  },
  {
   "cell_type": "code",
   "execution_count": 29,
   "metadata": {},
   "outputs": [],
   "source": [
    "out = model(x)"
   ]
  },
  {
   "cell_type": "code",
   "execution_count": 30,
   "metadata": {},
   "outputs": [
    {
     "data": {
      "text/plain": [
       "<tf.Tensor: shape=(4, 10), dtype=float32, numpy=\n",
       "array([[-0.5801793 ,  0.9044789 , -0.12511998, -1.2466414 ,  0.07807514,\n",
       "         0.40293613,  0.2726086 , -0.7145931 ,  1.1084203 , -0.6981863 ],\n",
       "       [-0.06778196,  0.66348886,  0.10842304, -0.48206946,  0.7165499 ,\n",
       "         0.7505105 ,  0.5552246 , -0.8202399 ,  1.1789759 , -0.26004484],\n",
       "       [-0.4469275 ,  1.25681   , -0.74013495, -0.59414935,  1.2109604 ,\n",
       "         0.21164128, -0.35351366, -0.42286968,  1.0978292 ,  0.40637264],\n",
       "       [-0.3438449 ,  0.64932436, -0.0598116 , -0.6463855 ,  0.51662517,\n",
       "         0.09881331,  0.53702146, -0.53579   ,  0.70195115, -0.17020592]],\n",
       "      dtype=float32)>"
      ]
     },
     "execution_count": 30,
     "metadata": {},
     "output_type": "execute_result"
    }
   ],
   "source": [
    "out"
   ]
  },
  {
   "cell_type": "code",
   "execution_count": null,
   "metadata": {},
   "outputs": [],
   "source": []
  }
 ],
 "metadata": {
  "kernelspec": {
   "display_name": "Python 3",
   "language": "python",
   "name": "python3"
  },
  "language_info": {
   "codemirror_mode": {
    "name": "ipython",
    "version": 3
   },
   "file_extension": ".py",
   "mimetype": "text/x-python",
   "name": "python",
   "nbconvert_exporter": "python",
   "pygments_lexer": "ipython3",
   "version": "3.8.3"
  }
 },
 "nbformat": 4,
 "nbformat_minor": 4
}
